{
 "cells": [
  {
   "cell_type": "markdown",
   "metadata": {},
   "source": [
    "1- Introduction\n",
    "    Objective: Develop an efficient program that will analyze the correlation between first violent crimes commited and the offenders gender/age.\n",
    "    Tools and Technology: Pandas, SQL, Jupyter Notebook, Tableau, Matplotlib and Seaborn\n",
    "    Goals: Write code that is readable, visually appealing and covers every aspect of the project requirements and more.\n",
    "\n",
    "2- Visual Appeal and Design Consistency\n",
    "    -Design according to current trends \n",
    "    -Select an interesting yet subtle color palette to draw people in but not take attention from the data.\n",
    "    -Graphs/tables\n",
    "    -All text and headings are consistent throughout the project    \n",
    "\n",
    "3- Data and Cleaning\n",
    "    -Load 3 data files (NIBRS data set for KY, CA and NY for 2022)\n",
    "    -Clean data using Pandas\n",
    "    -Merge datasets to look at as a whole rather than by individual state \n",
    "\n",
    "4- Data Analysis and Visualization\n",
    "    -Atleast 3 but no more than 5 graphs/tables that best represent and showcase the date \n",
    "\n",
    "5- Best Practices\n",
    "    -Set up virtual environment\n",
    "    -Test as I go\n",
    "    -Document everything and explain/comment out what is going on and why (clear and concise)\n",
    "    -README.md file covers all directions, tests, steps and comments on project\n",
    "\n",
    "6- Review\n",
    "    -Double check everything yourself and have a mentor check as well\n",
    "    -Make sure final is fully functional and well-documented\n",
    "    -Submit\n",
    "\n"
   ]
  }
 ],
 "metadata": {
  "language_info": {
   "name": "python"
  }
 },
 "nbformat": 4,
 "nbformat_minor": 2
}
